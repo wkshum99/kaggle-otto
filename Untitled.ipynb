{
 "cells": [
  {
   "cell_type": "code",
   "execution_count": 190,
   "metadata": {
    "collapsed": true
   },
   "outputs": [],
   "source": [
    "import numpy as np\n",
    "import pandas as pd\n",
    "import scipy.linalg\n",
    "import matplotlib.pyplot as plt"
   ]
  },
  {
   "cell_type": "code",
   "execution_count": 191,
   "metadata": {
    "collapsed": false
   },
   "outputs": [],
   "source": [
    "X = np.random.random((10,5))"
   ]
  },
  {
   "cell_type": "code",
   "execution_count": 192,
   "metadata": {
    "collapsed": false
   },
   "outputs": [
    {
     "data": {
      "text/plain": [
       "(10, 5)"
      ]
     },
     "execution_count": 192,
     "metadata": {},
     "output_type": "execute_result"
    }
   ],
   "source": [
    "X.shape"
   ]
  },
  {
   "cell_type": "code",
   "execution_count": 193,
   "metadata": {
    "collapsed": false
   },
   "outputs": [],
   "source": [
    "U, s, Vh = scipy.linalg.svd(X)"
   ]
  },
  {
   "cell_type": "code",
   "execution_count": 194,
   "metadata": {
    "collapsed": false
   },
   "outputs": [
    {
     "name": "stdout",
     "output_type": "stream",
     "text": [
      "(10, 10)\n",
      "(5,)\n",
      "(5, 5)\n"
     ]
    }
   ],
   "source": [
    "print U.shape\n",
    "print s.shape\n",
    "print Vh.shape"
   ]
  },
  {
   "cell_type": "code",
   "execution_count": 195,
   "metadata": {
    "collapsed": false
   },
   "outputs": [
    {
     "name": "stdout",
     "output_type": "stream",
     "text": [
      "(10, 10)\n",
      "(10, 5)\n",
      "(5, 5)\n"
     ]
    }
   ],
   "source": [
    "print U.shape\n",
    "print S.shape\n",
    "print Vh.shape"
   ]
  },
  {
   "cell_type": "code",
   "execution_count": 196,
   "metadata": {
    "collapsed": false
   },
   "outputs": [],
   "source": [
    "newX = np.dot(U, np.dot(S, Vh))"
   ]
  },
  {
   "cell_type": "code",
   "execution_count": 197,
   "metadata": {
    "collapsed": false
   },
   "outputs": [
    {
     "data": {
      "text/plain": [
       "False"
      ]
     },
     "execution_count": 197,
     "metadata": {},
     "output_type": "execute_result"
    }
   ],
   "source": [
    "np.allclose(newX, X)"
   ]
  },
  {
   "cell_type": "code",
   "execution_count": 214,
   "metadata": {
    "collapsed": false
   },
   "outputs": [],
   "source": [
    "k = 4\n",
    "S = scipy.linalg.diagsvd(s[0:k], len(U), k)\n",
    "newX = np.dot(U, np.dot(S[:, 0:k], Vh[0:k, 0:k]))"
   ]
  },
  {
   "cell_type": "code",
   "execution_count": 215,
   "metadata": {
    "collapsed": false
   },
   "outputs": [
    {
     "ename": "ValueError",
     "evalue": "operands could not be broadcast together with shapes (10,4) (10,5) ",
     "output_type": "error",
     "traceback": [
      "\u001b[0;31m---------------------------------------------------------------------------\u001b[0m",
      "\u001b[0;31mValueError\u001b[0m                                Traceback (most recent call last)",
      "\u001b[0;32m<ipython-input-215-d77c16113bfa>\u001b[0m in \u001b[0;36m<module>\u001b[0;34m()\u001b[0m\n\u001b[0;32m----> 1\u001b[0;31m \u001b[0mnp\u001b[0m\u001b[0;34m.\u001b[0m\u001b[0mallclose\u001b[0m\u001b[0;34m(\u001b[0m\u001b[0mnewX\u001b[0m\u001b[0;34m,\u001b[0m \u001b[0mX\u001b[0m\u001b[0;34m)\u001b[0m\u001b[0;34m\u001b[0m\u001b[0m\n\u001b[0m",
      "\u001b[0;32m/Users/kenneth/anaconda/lib/python2.7/site-packages/numpy/core/numeric.pyc\u001b[0m in \u001b[0;36mallclose\u001b[0;34m(a, b, rtol, atol)\u001b[0m\n\u001b[1;32m   2127\u001b[0m     \u001b[0;31m# ignore invalid fpe's\u001b[0m\u001b[0;34m\u001b[0m\u001b[0;34m\u001b[0m\u001b[0m\n\u001b[1;32m   2128\u001b[0m     \u001b[0;32mwith\u001b[0m \u001b[0merrstate\u001b[0m\u001b[0;34m(\u001b[0m\u001b[0minvalid\u001b[0m\u001b[0;34m=\u001b[0m\u001b[0;34m'ignore'\u001b[0m\u001b[0;34m)\u001b[0m\u001b[0;34m:\u001b[0m\u001b[0;34m\u001b[0m\u001b[0m\n\u001b[0;32m-> 2129\u001b[0;31m         \u001b[0mr\u001b[0m \u001b[0;34m=\u001b[0m \u001b[0mall\u001b[0m\u001b[0;34m(\u001b[0m\u001b[0mless_equal\u001b[0m\u001b[0;34m(\u001b[0m\u001b[0mabs\u001b[0m\u001b[0;34m(\u001b[0m\u001b[0mx\u001b[0m\u001b[0;34m-\u001b[0m\u001b[0my\u001b[0m\u001b[0;34m)\u001b[0m\u001b[0;34m,\u001b[0m \u001b[0matol\u001b[0m \u001b[0;34m+\u001b[0m \u001b[0mrtol\u001b[0m \u001b[0;34m*\u001b[0m \u001b[0mabs\u001b[0m\u001b[0;34m(\u001b[0m\u001b[0my\u001b[0m\u001b[0;34m)\u001b[0m\u001b[0;34m)\u001b[0m\u001b[0;34m)\u001b[0m\u001b[0;34m\u001b[0m\u001b[0m\n\u001b[0m\u001b[1;32m   2130\u001b[0m \u001b[0;34m\u001b[0m\u001b[0m\n\u001b[1;32m   2131\u001b[0m     \u001b[0;32mreturn\u001b[0m \u001b[0mr\u001b[0m\u001b[0;34m\u001b[0m\u001b[0m\n",
      "\u001b[0;31mValueError\u001b[0m: operands could not be broadcast together with shapes (10,4) (10,5) "
     ]
    }
   ],
   "source": [
    "np.allclose(newX, X)"
   ]
  },
  {
   "cell_type": "code",
   "execution_count": null,
   "metadata": {
    "collapsed": true
   },
   "outputs": [],
   "source": [
    "#Ak = U(:,1:k)*S(1:k,1:k)*V(:,1:k)';\n",
    "#U 100 x 100\n",
    "#S 100 x 20\n",
    "#V 20 x 20"
   ]
  },
  {
   "cell_type": "code",
   "execution_count": 217,
   "metadata": {
    "collapsed": false
   },
   "outputs": [
    {
     "data": {
      "text/plain": [
       "array([[ 0.90246037,  0.59310696,  0.62551198,  0.16122395,  0.44033414],\n",
       "       [ 0.28866982,  0.37853847,  0.54495627,  0.84274592,  0.49391895],\n",
       "       [ 0.11576395,  0.76623806,  0.25739152,  0.52788057,  0.09555676],\n",
       "       [ 0.13978724,  0.53887355,  0.65998991,  0.33254839,  0.08126824],\n",
       "       [ 0.44314183,  0.43183715,  0.59871445,  0.85419988,  0.64120403],\n",
       "       [ 0.75409727,  0.66273089,  0.28101042,  0.12004494,  0.81739669],\n",
       "       [ 0.72943647,  0.13353355,  0.70682649,  0.06802594,  0.41153589],\n",
       "       [ 0.1438912 ,  0.71161122,  0.24863995,  0.24466001,  0.71443332],\n",
       "       [ 0.42095156,  0.55862217,  0.63333996,  0.47977043,  0.74476215],\n",
       "       [ 0.66165473,  0.78941685,  0.5003898 ,  0.90496687,  0.9324169 ]])"
      ]
     },
     "execution_count": 217,
     "metadata": {},
     "output_type": "execute_result"
    }
   ],
   "source": [
    "X"
   ]
  },
  {
   "cell_type": "code",
   "execution_count": 216,
   "metadata": {
    "collapsed": false
   },
   "outputs": [
    {
     "data": {
      "text/plain": [
       "array([[ 0.81673812,  0.58070324,  0.6995183 ,  0.11063564],\n",
       "       [ 0.28331598,  0.37776379,  0.54957838,  0.83958639],\n",
       "       [ 0.02199968,  0.75267069,  0.33834074,  0.47254633],\n",
       "       [ 0.22115893,  0.55064775,  0.58973954,  0.38056926],\n",
       "       [ 0.43159571,  0.43016646,  0.60868252,  0.84738603],\n",
       "       [ 0.72041302,  0.6578569 ,  0.31009093,  0.10016644],\n",
       "       [ 0.77426569,  0.14002018,  0.66812422,  0.09448155],\n",
       "       [ 0.27242761,  0.73021   ,  0.13767102,  0.32051476],\n",
       "       [ 0.53442792,  0.57504181,  0.53537278,  0.54673761],\n",
       "       [ 0.5836538 ,  0.77813038,  0.5677301 ,  0.85893523]])"
      ]
     },
     "execution_count": 216,
     "metadata": {},
     "output_type": "execute_result"
    }
   ],
   "source": [
    "newX"
   ]
  },
  {
   "cell_type": "code",
   "execution_count": 200,
   "metadata": {
    "collapsed": false
   },
   "outputs": [],
   "source": [
    "#newX = np.dot(U[:, 0:k], np.dot(S[0:k, 0:k], Vh[:, 0:k].T))"
   ]
  },
  {
   "cell_type": "code",
   "execution_count": 201,
   "metadata": {
    "collapsed": false
   },
   "outputs": [],
   "source": [
    "#U[:, 0:k].shape"
   ]
  },
  {
   "cell_type": "code",
   "execution_count": 202,
   "metadata": {
    "collapsed": false
   },
   "outputs": [],
   "source": [
    "#X"
   ]
  },
  {
   "cell_type": "code",
   "execution_count": 203,
   "metadata": {
    "collapsed": false
   },
   "outputs": [],
   "source": [
    "#np.dot(U, np.dot(newd, Vh))"
   ]
  },
  {
   "cell_type": "code",
   "execution_count": 204,
   "metadata": {
    "collapsed": false
   },
   "outputs": [],
   "source": [
    "#np.dot(U[:, 0:k], np.dot(newd[0:k, 0:k], Vh[:, 0:k].T))"
   ]
  },
  {
   "cell_type": "code",
   "execution_count": 205,
   "metadata": {
    "collapsed": true
   },
   "outputs": [],
   "source": [
    "#mean = [0,0]\n",
    "#cov = [[1.0,0.7],[0.7,1.0]] \n",
    "#x,y = np.random.multivariate_normal(mean,cov,500).T"
   ]
  },
  {
   "cell_type": "code",
   "execution_count": 206,
   "metadata": {
    "collapsed": false
   },
   "outputs": [],
   "source": [
    "## create a data matrix\n",
    "#matrix = np.column_stack((x,y))\n",
    "#print matrix.shape\n",
    "## compute SVD\n",
    "#U,s,Vh = scipy.linalg.svd(matrix)\n",
    "## blow up s\n",
    "#S = scipy.linalg.diagsvd(s, 500, 2)\n",
    "## reconstruct the data (sanity test)\n",
    "#print U.shape\n",
    "#print S.shape\n",
    "#print Vh.shape"
   ]
  },
  {
   "cell_type": "code",
   "execution_count": 207,
   "metadata": {
    "collapsed": false
   },
   "outputs": [],
   "source": [
    "#reconstruction = np.dot(U, np.dot(S, Vh))"
   ]
  }
 ],
 "metadata": {
  "kernelspec": {
   "display_name": "Python 2",
   "language": "python",
   "name": "python2"
  },
  "language_info": {
   "codemirror_mode": {
    "name": "ipython",
    "version": 2
   },
   "file_extension": ".py",
   "mimetype": "text/x-python",
   "name": "python",
   "nbconvert_exporter": "python",
   "pygments_lexer": "ipython2",
   "version": "2.7.9"
  }
 },
 "nbformat": 4,
 "nbformat_minor": 0
}
