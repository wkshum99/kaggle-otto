{
 "cells": [
  {
   "cell_type": "code",
   "execution_count": 80,
   "metadata": {
    "collapsed": false
   },
   "outputs": [],
   "source": [
    "#from bs4 import BeautifulSoup \n",
    "#import urllib\n",
    "#import re\n",
    "import string\n",
    "import sys\n",
    "import csv\n",
    "import zipfile\n",
    "import operator\n",
    "\n",
    "import numpy as np\n",
    "import pandas as pd\n",
    "import matplotlib.pyplot as plt\n",
    "\n",
    "import sklearn\n",
    "import sklearn.datasets\n",
    "import sklearn.cross_validation\n",
    "import sklearn.decomposition\n",
    "import sklearn.grid_search\n",
    "import sklearn.neighbors\n",
    "import sklearn.metrics\n",
    "import sklearn.ensemble\n",
    "import sklearn.tree"
   ]
  },
  {
   "cell_type": "code",
   "execution_count": 21,
   "metadata": {
    "collapsed": true
   },
   "outputs": [],
   "source": [
    "def get_zip_URL(url):\n",
    "    r = requests.get(zipFileName).content\n",
    "    s = StringIO.StringIO(r)\n",
    "    zf = zipfile.ZipFile(s, 'r') # Read in a list of zipped files\n",
    "    return zf"
   ]
  },
  {
   "cell_type": "code",
   "execution_count": 22,
   "metadata": {
    "collapsed": true
   },
   "outputs": [],
   "source": [
    "def get_zip_FS(filename):\n",
    "    r = open(filename, 'rb')\n",
    "    zf = zipfile.ZipFile(r, 'r') # Read in a list of zipped files\n",
    "    return zf"
   ]
  },
  {
   "cell_type": "code",
   "execution_count": 23,
   "metadata": {
    "collapsed": false
   },
   "outputs": [],
   "source": [
    "infile = get_zip_FS('train.csv.zip')\n",
    "df = pd.read_csv(infile.open(infile.namelist()[0]), index_col=0)\n",
    "X = df.ix[:, range(0,len(df.columns)-1)]\n",
    "Y = df.target"
   ]
  },
  {
   "cell_type": "code",
   "execution_count": 24,
   "metadata": {
    "collapsed": false
   },
   "outputs": [],
   "source": [
    "#infile = get_zip_FS('test.csv.zip')\n",
    "#df = pd.read_csv(infile.open(infile.namelist()[0]), index_col=0)\n",
    "#X_test = df.ix[:, range(0,len(df.columns))]"
   ]
  },
  {
   "cell_type": "code",
   "execution_count": 25,
   "metadata": {
    "collapsed": false
   },
   "outputs": [],
   "source": [
    "X_train, X_test, Y_train, Y_test = sklearn.cross_validation.train_test_split(\n",
    "    X, Y, test_size=0.33, random_state=42)\n",
    "\n",
    "#print X_train.shape\n",
    "#print X_test.shape\n",
    "#print Y_train.shape\n",
    "#print Y_test.shape"
   ]
  },
  {
   "cell_type": "code",
   "execution_count": 26,
   "metadata": {
    "collapsed": false
   },
   "outputs": [],
   "source": [
    "#def fix_result(in_result):\n",
    "#    out_result = []\n",
    "#    for i in in_result:\n",
    "#        out_result.append(i)\n",
    "#    return out_result"
   ]
  },
  {
   "cell_type": "code",
   "execution_count": 27,
   "metadata": {
    "collapsed": true
   },
   "outputs": [],
   "source": [
    "#def convert_result(in_result):\n",
    "#    out_result = []\n",
    "#    for i in in_result:\n",
    "#        out_result.append(int(i[-1]))\n",
    "#    return out_result"
   ]
  },
  {
   "cell_type": "code",
   "execution_count": 28,
   "metadata": {
    "collapsed": false
   },
   "outputs": [],
   "source": [
    "def match_submission_format(in_result):\n",
    "    out_result = []\n",
    "    j = 1\n",
    "    for i in in_result:\n",
    "        a = [0] * 10\n",
    "        a[0] = j\n",
    "        a[int(i[-1])] = 1\n",
    "        out_result.append(a)\n",
    "        j = j + 1\n",
    "    return out_result"
   ]
  },
  {
   "cell_type": "code",
   "execution_count": 29,
   "metadata": {
    "collapsed": true
   },
   "outputs": [],
   "source": [
    "def write_submission_result(in_result):\n",
    "    with open('submission.csv', 'wb') as of:\n",
    "        csv_file = csv.writer(of, delimiter = ',')\n",
    "        csv_file.writerow(['id','Class_1','Class_2','Class_3','Class_4','Class_5','Class_6','Class_7','Class_8','Class_9'])\n",
    "        for i in in_result:\n",
    "            csv_file.writerow(i)"
   ]
  },
  {
   "cell_type": "code",
   "execution_count": 30,
   "metadata": {
    "collapsed": false
   },
   "outputs": [],
   "source": [
    "# random forest\n",
    "\n",
    "#rfc.fit(X_train, Y_train)\n",
    "#y_result = rfc.predict(X_test)"
   ]
  },
  {
   "cell_type": "code",
   "execution_count": 31,
   "metadata": {
    "collapsed": false
   },
   "outputs": [],
   "source": [
    "#truth = Y_test.astype('S')\n",
    "#clf_result = y_result.astype('S')"
   ]
  },
  {
   "cell_type": "code",
   "execution_count": 32,
   "metadata": {
    "collapsed": false
   },
   "outputs": [],
   "source": [
    "#sklearn.metrics.accuracy_score(truth, clf_result)"
   ]
  },
  {
   "cell_type": "code",
   "execution_count": 33,
   "metadata": {
    "collapsed": false
   },
   "outputs": [
    {
     "data": {
      "text/plain": [
       "array([ 0.80604005,  0.80923922,  0.81276252,  0.80662359,  0.81108597,\n",
       "        0.8081151 ,  0.80989331,  0.81781442,  0.80989331,  0.81449135])"
      ]
     },
     "execution_count": 33,
     "metadata": {},
     "output_type": "execute_result"
    }
   ],
   "source": [
    "# Random Forest\n",
    "rfc = sklearn.ensemble.RandomForestClassifier(n_estimators=100)\n",
    "sklearn.cross_validation.cross_val_score(rfc, X, Y, cv=10)"
   ]
  },
  {
   "cell_type": "code",
   "execution_count": 34,
   "metadata": {
    "collapsed": false
   },
   "outputs": [],
   "source": [
    "#submission = match_submission_format(y_result)"
   ]
  },
  {
   "cell_type": "code",
   "execution_count": 35,
   "metadata": {
    "collapsed": false
   },
   "outputs": [],
   "source": [
    "#decision tree\n",
    "#one_hot_encoding = pd.get_dummies(Y_train)\n",
    "#clf = sklearn.tree.DecisionTreeClassifier(random_state=0)\n",
    "#sklearn.cross_validation.cross_val_score(clf, X_train, one_hot_encoding, cv=10)"
   ]
  },
  {
   "cell_type": "code",
   "execution_count": 36,
   "metadata": {
    "collapsed": false
   },
   "outputs": [],
   "source": [
    "#write_submission_result(submission)"
   ]
  },
  {
   "cell_type": "code",
   "execution_count": 37,
   "metadata": {
    "collapsed": false
   },
   "outputs": [],
   "source": [
    "# perform svd on X first\n",
    "#svd = sklearn.decomposition.TruncatedSVD(n_components=10)\n",
    "#X_10d = svd.fit_transform(X)"
   ]
  },
  {
   "cell_type": "code",
   "execution_count": 19,
   "metadata": {
    "collapsed": false
   },
   "outputs": [],
   "source": [
    "# Random Forest\n",
    "#rfc = sklearn.ensemble.RandomForestClassifier(n_estimators=100)\n",
    "#np.mean(sklearn.cross_validation.cross_val_score(rfc, X_10d, Y, cv=10))"
   ]
  },
  {
   "cell_type": "code",
   "execution_count": 95,
   "metadata": {
    "collapsed": true
   },
   "outputs": [],
   "source": [
    "def clf_svd(X, Y, clf, dimension_reduction, no_of_feature=None):\n",
    "    # perform dimension reduction on X, and run\n",
    "    # classifer, return cross validation score matrix\n",
    "    \n",
    "    if (no_of_feature==None):\n",
    "        no_of_feature = len(X.columns) \n",
    "        \n",
    "    options = {'pca': sklearn.decomposition.PCA,\n",
    "               't_svd': sklearn.decomposition.TruncatedSVD}\n",
    "    \n",
    "    # number of features must be greater than or equal to 2\n",
    "    if len(X.columns) < 2:\n",
    "        return False\n",
    "    else:    \n",
    "        result = {}\n",
    "        for i in range(2, no_of_feature+1):\n",
    "            # if number of features is same as i, no need to perform dimension reduction\n",
    "            if (i == len(X.columns)):\n",
    "                result[i] = sklearn.cross_validation.cross_val_score(clf, X, Y, cv=10)\n",
    "            else:                \n",
    "                svd = options[dimension_reduction](n_components=i)\n",
    "                X_ds = svd.fit_transform(X)\n",
    "                result[i] = sklearn.cross_validation.cross_val_score(clf, X_ds, Y, cv=10)\n",
    "            \n",
    "    return result"
   ]
  },
  {
   "cell_type": "code",
   "execution_count": null,
   "metadata": {
    "collapsed": false
   },
   "outputs": [],
   "source": [
    "result = clf_svd(X, Y, sklearn.ensemble.RandomForestClassifier(n_estimators=10), 'pca', 20)"
   ]
  },
  {
   "cell_type": "code",
   "execution_count": 74,
   "metadata": {
    "collapsed": false
   },
   "outputs": [],
   "source": [
    "totalresult = {}\n",
    "for i in result.keys():\n",
    "    totalresult[i] = np.mean(result[i])"
   ]
  },
  {
   "cell_type": "code",
   "execution_count": 82,
   "metadata": {
    "collapsed": false
   },
   "outputs": [
    {
     "data": {
      "text/plain": [
       "(44, 0.76172581815573615)"
      ]
     },
     "execution_count": 82,
     "metadata": {},
     "output_type": "execute_result"
    }
   ],
   "source": [
    "max(totalresult.iteritems(), key=operator.itemgetter(1))"
   ]
  },
  {
   "cell_type": "code",
   "execution_count": 84,
   "metadata": {
    "collapsed": true
   },
   "outputs": [],
   "source": [
    "result = clf_svd(X, Y, sklearn.ensemble.RandomForestClassifier(n_estimators=10))"
   ]
  },
  {
   "cell_type": "code",
   "execution_count": 85,
   "metadata": {
    "collapsed": true
   },
   "outputs": [],
   "source": [
    "for i in result.keys():\n",
    "    totalresult[i] = np.mean(result[i])"
   ]
  },
  {
   "cell_type": "code",
   "execution_count": 86,
   "metadata": {
    "collapsed": false
   },
   "outputs": [
    {
     "data": {
      "text/plain": [
       "(93, 0.78095686255325758)"
      ]
     },
     "execution_count": 86,
     "metadata": {},
     "output_type": "execute_result"
    }
   ],
   "source": [
    "max(totalresult.iteritems(), key=operator.itemgetter(1))"
   ]
  },
  {
   "cell_type": "code",
   "execution_count": 87,
   "metadata": {
    "collapsed": false
   },
   "outputs": [
    {
     "data": {
      "text/plain": [
       "{2: 0.38789421899596599,\n",
       " 3: 0.54961538467806625,\n",
       " 4: 0.58529788962283702,\n",
       " 5: 0.61462977760965432,\n",
       " 6: 0.64666137826852188,\n",
       " 7: 0.65642268020633909,\n",
       " 8: 0.6785468078103688,\n",
       " 9: 0.69386633036139655,\n",
       " 10: 0.70125165609253282,\n",
       " 11: 0.71005989107502077,\n",
       " 12: 0.71720132364820144,\n",
       " 13: 0.72318224061317271,\n",
       " 14: 0.72911229740348271,\n",
       " 15: 0.73303938420212233,\n",
       " 16: 0.73627288589119133,\n",
       " 17: 0.74210621571149249,\n",
       " 18: 0.74066769953653844,\n",
       " 19: 0.74247794996150041,\n",
       " 20: 0.74318932766277168,\n",
       " 21: 0.74483747086027408,\n",
       " 22: 0.74535430022904581,\n",
       " 23: 0.74579100228513118,\n",
       " 24: 0.74637229825708462,\n",
       " 25: 0.75012277824035212,\n",
       " 26: 0.75030024950421925,\n",
       " 27: 0.75089819112775935,\n",
       " 28: 0.75201274909945615,\n",
       " 29: 0.75354845954377958,\n",
       " 30: 0.75372628549325449,\n",
       " 31: 0.75445363545431698,\n",
       " 32: 0.75576253979023289,\n",
       " 33: 0.75545487737503347,\n",
       " 34: 0.75831587176037674,\n",
       " 35: 0.75766865243328962,\n",
       " 36: 0.75904317204140603,\n",
       " 37: 0.76036723134559736,\n",
       " 38: 0.7606275644293008,\n",
       " 39: 0.76048184275358266,\n",
       " 40: 0.7615157130962309,\n",
       " 41: 0.75997979642289049,\n",
       " 42: 0.76073957910169598,\n",
       " 43: 0.75813756045378689,\n",
       " 44: 0.76172581815573615,\n",
       " 45: 0.76052947433928586,\n",
       " 46: 0.7620162882621252,\n",
       " 47: 0.76041587142050793,\n",
       " 48: 0.75828367393061968,\n",
       " 49: 0.76112682597970949,\n",
       " 50: 0.7617090729968361,\n",
       " 51: 0.75957644188606865,\n",
       " 52: 0.75923634636814763,\n",
       " 53: 0.75991591514024681,\n",
       " 54: 0.76030361140113178,\n",
       " 55: 0.76054602913038638,\n",
       " 56: 0.76098218751300162,\n",
       " 57: 0.75970492494726771,\n",
       " 58: 0.76149936207103064,\n",
       " 59: 0.76133804624381007,\n",
       " 60: 0.75920523999375611,\n",
       " 61: 0.7603364335317504,\n",
       " 62: 0.76083614955479673,\n",
       " 63: 0.75923698650052063,\n",
       " 64: 0.76389113308190804,\n",
       " 65: 0.7598025762718903,\n",
       " 66: 0.76069097775711625,\n",
       " 67: 0.76187150403970383,\n",
       " 68: 0.76062677626009134,\n",
       " 69: 0.76133739842550585,\n",
       " 70: 0.76046482504199875,\n",
       " 71: 0.76235703427615165,\n",
       " 72: 0.76148331953708825,\n",
       " 73: 0.76214658487106146,\n",
       " 74: 0.76248437080158538,\n",
       " 75: 0.7619523417737174,\n",
       " 76: 0.76212906078849496,\n",
       " 77: 0.76156546815460047,\n",
       " 78: 0.76022319892318846,\n",
       " 79: 0.75913937181885593,\n",
       " 80: 0.75944594691438883,\n",
       " 81: 0.76057859770066238,\n",
       " 82: 0.76174138292372962,\n",
       " 83: 0.76122509931161975,\n",
       " 84: 0.76149960243704273,\n",
       " 85: 0.76094998459117913,\n",
       " 86: 0.7602862935077801,\n",
       " 87: 0.76316422116771554,\n",
       " 88: 0.76195168404290059,\n",
       " 89: 0.76091788577604336,\n",
       " 90: 0.76188645496550811,\n",
       " 91: 0.76187096079949657,\n",
       " 92: 0.76101486357891834,\n",
       " 93: 0.78095686255325758}"
      ]
     },
     "execution_count": 87,
     "metadata": {},
     "output_type": "execute_result"
    }
   ],
   "source": [
    "totalresult"
   ]
  },
  {
   "cell_type": "code",
   "execution_count": 88,
   "metadata": {
    "collapsed": true
   },
   "outputs": [],
   "source": [
    "a = sklearn.cross_validation.cross_val_score(sklearn.ensemble.RandomForestClassifier(n_estimators=100), X, Y, cv=10)"
   ]
  },
  {
   "cell_type": "code",
   "execution_count": 89,
   "metadata": {
    "collapsed": false
   },
   "outputs": [
    {
     "data": {
      "text/plain": [
       "array([ 0.80490956,  0.8077855 ,  0.81437803,  0.80355412,  0.80591467,\n",
       "        0.80795344,  0.81247979,  0.81635952,  0.81021662,  0.81594695])"
      ]
     },
     "execution_count": 89,
     "metadata": {},
     "output_type": "execute_result"
    }
   ],
   "source": [
    "a"
   ]
  }
 ],
 "metadata": {
  "kernelspec": {
   "display_name": "Python 2",
   "language": "python",
   "name": "python2"
  },
  "language_info": {
   "codemirror_mode": {
    "name": "ipython",
    "version": 2
   },
   "file_extension": ".py",
   "mimetype": "text/x-python",
   "name": "python",
   "nbconvert_exporter": "python",
   "pygments_lexer": "ipython2",
   "version": "2.7.8"
  }
 },
 "nbformat": 4,
 "nbformat_minor": 0
}
