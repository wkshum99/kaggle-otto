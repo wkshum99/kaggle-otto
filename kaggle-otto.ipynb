{
 "cells": [
  {
   "cell_type": "code",
   "execution_count": 3,
   "metadata": {
    "collapsed": false
   },
   "outputs": [],
   "source": [
    "from bs4 import BeautifulSoup \n",
    "import urllib\n",
    "import re\n",
    "import string\n",
    "import sys\n",
    "import csv\n",
    "import zipfile\n",
    "\n",
    "import numpy as np\n",
    "import pandas as pd\n",
    "import matplotlib.pyplot as plt\n",
    "\n",
    "import sklearn\n",
    "import sklearn.datasets\n",
    "import sklearn.cross_validation\n",
    "import sklearn.decomposition\n",
    "import sklearn.grid_search\n",
    "import sklearn.neighbors\n",
    "import sklearn.metrics\n",
    "import sklearn.ensemble\n",
    "import sklearn.tree"
   ]
  },
  {
   "cell_type": "code",
   "execution_count": 4,
   "metadata": {
    "collapsed": true
   },
   "outputs": [],
   "source": [
    "def get_zip_URL(url):\n",
    "    r = requests.get(zipFileName).content\n",
    "    s = StringIO.StringIO(r)\n",
    "    zf = zipfile.ZipFile(s, 'r') # Read in a list of zipped files\n",
    "    return zf"
   ]
  },
  {
   "cell_type": "code",
   "execution_count": 5,
   "metadata": {
    "collapsed": true
   },
   "outputs": [],
   "source": [
    "def get_zip_FS(filename):\n",
    "    r = open(filename, 'rb')\n",
    "    zf = zipfile.ZipFile(r, 'r') # Read in a list of zipped files\n",
    "    return zf"
   ]
  },
  {
   "cell_type": "code",
   "execution_count": 6,
   "metadata": {
    "collapsed": false
   },
   "outputs": [],
   "source": [
    "infile = get_zip_FS('train.csv.zip')\n",
    "df = pd.read_csv(infile.open(infile.namelist()[0]), index_col=0)\n",
    "X = df.ix[:, range(0,len(df.columns)-1)]\n",
    "Y = df.target"
   ]
  },
  {
   "cell_type": "code",
   "execution_count": 7,
   "metadata": {
    "collapsed": false
   },
   "outputs": [],
   "source": [
    "#infile = get_zip_FS('test.csv.zip')\n",
    "#df = pd.read_csv(infile.open(infile.namelist()[0]), index_col=0)\n",
    "#X_test = df.ix[:, range(0,len(df.columns))]"
   ]
  },
  {
   "cell_type": "code",
   "execution_count": 8,
   "metadata": {
    "collapsed": false
   },
   "outputs": [],
   "source": [
    "X_train, X_test, Y_train, Y_test = sklearn.cross_validation.train_test_split(\n",
    "    X, Y, test_size=0.33, random_state=42)\n",
    "\n",
    "#print X_train.shape\n",
    "#print X_test.shape\n",
    "#print Y_train.shape\n",
    "#print Y_test.shape"
   ]
  },
  {
   "cell_type": "code",
   "execution_count": 9,
   "metadata": {
    "collapsed": false
   },
   "outputs": [],
   "source": [
    "#def fix_result(in_result):\n",
    "#    out_result = []\n",
    "#    for i in in_result:\n",
    "#        out_result.append(i)\n",
    "#    return out_result"
   ]
  },
  {
   "cell_type": "code",
   "execution_count": 10,
   "metadata": {
    "collapsed": true
   },
   "outputs": [],
   "source": [
    "#def convert_result(in_result):\n",
    "#    out_result = []\n",
    "#    for i in in_result:\n",
    "#        out_result.append(int(i[-1]))\n",
    "#    return out_result"
   ]
  },
  {
   "cell_type": "code",
   "execution_count": 11,
   "metadata": {
    "collapsed": false
   },
   "outputs": [],
   "source": [
    "def match_submission_format(in_result):\n",
    "    out_result = []\n",
    "    j = 1\n",
    "    for i in in_result:\n",
    "        a = [0] * 10\n",
    "        a[0] = j\n",
    "        a[int(i[-1])] = 1\n",
    "        out_result.append(a)\n",
    "        j = j + 1\n",
    "    return out_result"
   ]
  },
  {
   "cell_type": "code",
   "execution_count": 12,
   "metadata": {
    "collapsed": true
   },
   "outputs": [],
   "source": [
    "def write_submission_result(in_result):\n",
    "    with open('submission.csv', 'wb') as of:\n",
    "        csv_file = csv.writer(of, delimiter = ',')\n",
    "        csv_file.writerow(['id','Class_1','Class_2','Class_3','Class_4','Class_5','Class_6','Class_7','Class_8','Class_9'])\n",
    "        for i in in_result:\n",
    "            csv_file.writerow(i)"
   ]
  },
  {
   "cell_type": "code",
   "execution_count": 13,
   "metadata": {
    "collapsed": false
   },
   "outputs": [],
   "source": [
    "# random forest\n",
    "\n",
    "#rfc.fit(X_train, Y_train)\n",
    "#y_result = rfc.predict(X_test)"
   ]
  },
  {
   "cell_type": "code",
   "execution_count": 14,
   "metadata": {
    "collapsed": false
   },
   "outputs": [],
   "source": [
    "#truth = Y_test.astype('S')\n",
    "#clf_result = y_result.astype('S')"
   ]
  },
  {
   "cell_type": "code",
   "execution_count": 15,
   "metadata": {
    "collapsed": false
   },
   "outputs": [],
   "source": [
    "#sklearn.metrics.accuracy_score(truth, clf_result)"
   ]
  },
  {
   "cell_type": "code",
   "execution_count": 16,
   "metadata": {
    "collapsed": false
   },
   "outputs": [
    {
     "data": {
      "text/plain": [
       "array([ 0.77923127,  0.78258763,  0.77899838,  0.78206785,  0.78312864,\n",
       "        0.77788555,  0.7900097 ,  0.79534433,  0.78758487,  0.78845221])"
      ]
     },
     "execution_count": 16,
     "metadata": {},
     "output_type": "execute_result"
    }
   ],
   "source": [
    "# Random Forest\n",
    "rfc = sklearn.ensemble.RandomForestClassifier(n_estimators=100)\n",
    "sklearn.cross_validation.cross_val_score(rfc, X, Y, cv=10)"
   ]
  },
  {
   "cell_type": "code",
   "execution_count": 17,
   "metadata": {
    "collapsed": false
   },
   "outputs": [
    {
     "ename": "NameError",
     "evalue": "name 'y_result' is not defined",
     "output_type": "error",
     "traceback": [
      "\u001b[1;31m---------------------------------------------------------------------------\u001b[0m",
      "\u001b[1;31mNameError\u001b[0m                                 Traceback (most recent call last)",
      "\u001b[1;32m<ipython-input-17-6c0df5716b3a>\u001b[0m in \u001b[0;36m<module>\u001b[1;34m()\u001b[0m\n\u001b[1;32m----> 1\u001b[1;33m \u001b[0msubmission\u001b[0m \u001b[1;33m=\u001b[0m \u001b[0mmatch_submission_format\u001b[0m\u001b[1;33m(\u001b[0m\u001b[0my_result\u001b[0m\u001b[1;33m)\u001b[0m\u001b[1;33m\u001b[0m\u001b[0m\n\u001b[0m",
      "\u001b[1;31mNameError\u001b[0m: name 'y_result' is not defined"
     ]
    }
   ],
   "source": [
    "#submission = match_submission_format(y_result)"
   ]
  },
  {
   "cell_type": "code",
   "execution_count": null,
   "metadata": {
    "collapsed": false
   },
   "outputs": [],
   "source": [
    "#decision tree\n",
    "#one_hot_encoding = pd.get_dummies(Y_train)\n",
    "#clf = sklearn.tree.DecisionTreeClassifier(random_state=0)\n",
    "#sklearn.cross_validation.cross_val_score(clf, X_train, one_hot_encoding, cv=10)"
   ]
  },
  {
   "cell_type": "code",
   "execution_count": null,
   "metadata": {
    "collapsed": false
   },
   "outputs": [],
   "source": [
    "#write_submission_result(submission)"
   ]
  },
  {
   "cell_type": "code",
   "execution_count": 25,
   "metadata": {
    "collapsed": false
   },
   "outputs": [],
   "source": [
    "# perform svd on X first\n",
    "#svd = sklearn.decomposition.TruncatedSVD(n_components=10)\n",
    "#X_10d = svd.fit_transform(X)"
   ]
  },
  {
   "cell_type": "code",
   "execution_count": 43,
   "metadata": {
    "collapsed": false
   },
   "outputs": [
    {
     "data": {
      "text/plain": [
       "0.72534788714606047"
      ]
     },
     "execution_count": 43,
     "metadata": {},
     "output_type": "execute_result"
    }
   ],
   "source": [
    "# Random Forest\n",
    "#rfc = sklearn.ensemble.RandomForestClassifier(n_estimators=100)\n",
    "#np.mean(sklearn.cross_validation.cross_val_score(rfc, X_10d, Y, cv=10))"
   ]
  },
  {
   "cell_type": "code",
   "execution_count": 44,
   "metadata": {
    "collapsed": false
   },
   "outputs": [],
   "source": [
    "def clf_svd(X, Y, clf):\n",
    "    # perform dimension reduction on X, and run\n",
    "    # classifer, return cross validation score matrix\n",
    "    \n",
    "    # number of features must be greater than or equal to 2\n",
    "    if len(X.columns) < 2:\n",
    "        return False\n",
    "    else:    \n",
    "        result = {}\n",
    "        for i in range(2, len(X.columns)+1):\n",
    "            svd = sklearn.decomposition.TruncatedSVD(n_components=i)\n",
    "            X_ds = svd.fit_transform(X)\n",
    "            result[i] = sklearn.cross_validation.cross_val_score(clf, X_ds, Y, cv=10)\n",
    "            \n",
    "    return result"
   ]
  },
  {
   "cell_type": "code",
   "execution_count": null,
   "metadata": {
    "collapsed": false
   },
   "outputs": [],
   "source": [
    "result = clf_svd(X, Y, sklearn.ensemble.RandomForestClassifier(n_estimators=100))"
   ]
  }
 ],
 "metadata": {
  "kernelspec": {
   "display_name": "Python 2",
   "language": "python",
   "name": "python2"
  },
  "language_info": {
   "codemirror_mode": {
    "name": "ipython",
    "version": 2
   },
   "file_extension": ".py",
   "mimetype": "text/x-python",
   "name": "python",
   "nbconvert_exporter": "python",
   "pygments_lexer": "ipython2",
   "version": "2.7.8"
  }
 },
 "nbformat": 4,
 "nbformat_minor": 0
}
