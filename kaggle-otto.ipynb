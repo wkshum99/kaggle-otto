{
 "cells": [
  {
   "cell_type": "code",
   "execution_count": 44,
   "metadata": {
    "collapsed": false
   },
   "outputs": [],
   "source": [
    "from bs4 import BeautifulSoup \n",
    "import urllib\n",
    "import re\n",
    "import string\n",
    "import sys\n",
    "import csv\n",
    "import zipfile\n",
    "\n",
    "import numpy as np\n",
    "import pandas as pd\n",
    "import matplotlib.pyplot as plt\n",
    "\n",
    "import sklearn\n",
    "import sklearn.datasets\n",
    "import sklearn.cross_validation\n",
    "import sklearn.decomposition\n",
    "import sklearn.grid_search\n",
    "import sklearn.neighbors\n",
    "import sklearn.metrics\n",
    "import sklearn.ensemble\n",
    "import sklearn.tree"
   ]
  },
  {
   "cell_type": "code",
   "execution_count": 2,
   "metadata": {
    "collapsed": true
   },
   "outputs": [],
   "source": [
    "def get_zip_URL(url):\n",
    "    r = requests.get(zipFileName).content\n",
    "    s = StringIO.StringIO(r)\n",
    "    zf = zipfile.ZipFile(s, 'r') # Read in a list of zipped files\n",
    "    return zf"
   ]
  },
  {
   "cell_type": "code",
   "execution_count": 3,
   "metadata": {
    "collapsed": true
   },
   "outputs": [],
   "source": [
    "def get_zip_FS(filename):\n",
    "    r = open(filename, 'rb')\n",
    "    zf = zipfile.ZipFile(r, 'r') # Read in a list of zipped files\n",
    "    return zf"
   ]
  },
  {
   "cell_type": "code",
   "execution_count": 86,
   "metadata": {
    "collapsed": false
   },
   "outputs": [],
   "source": [
    "infile = get_zip_FS('train.csv.zip')\n",
    "df = pd.read_csv(infile.open(infile.namelist()[0]), index_col=0)\n",
    "X_train = df.ix[:, range(0,len(df.columns)-1)]\n",
    "Y_train = df.target"
   ]
  },
  {
   "cell_type": "code",
   "execution_count": 153,
   "metadata": {
    "collapsed": false
   },
   "outputs": [],
   "source": [
    "#infile = get_zip_FS('test.csv.zip')\n",
    "#df = pd.read_csv(infile.open(infile.namelist()[0]), index_col=0)\n",
    "#X_test = df.ix[:, range(0,len(df.columns))]"
   ]
  },
  {
   "cell_type": "code",
   "execution_count": 152,
   "metadata": {
    "collapsed": false
   },
   "outputs": [
    {
     "name": "stdout",
     "output_type": "stream",
     "text": [
      "(41458, 93)\n",
      "(20420, 93)\n",
      "(41458,)\n",
      "(20420,)\n"
     ]
    }
   ],
   "source": [
    "X_train, X_test, Y_train, Y_test = sklearn.cross_validation.train_test_split(\n",
    "    X, Y, test_size=0.33, random_state=42)\n",
    "\n",
    "print X_train.shape\n",
    "print X_test.shape\n",
    "print Y_train.shape\n",
    "print Y_test.shape"
   ]
  },
  {
   "cell_type": "code",
   "execution_count": 27,
   "metadata": {
    "collapsed": false
   },
   "outputs": [],
   "source": [
    "def fix_result(in_result):\n",
    "    out_result = []\n",
    "    for i in in_result:\n",
    "        out_result.append(i)\n",
    "    return out_result"
   ]
  },
  {
   "cell_type": "code",
   "execution_count": 59,
   "metadata": {
    "collapsed": true
   },
   "outputs": [],
   "source": [
    "#def convert_result(in_result):\n",
    "#    out_result = []\n",
    "#    for i in in_result:\n",
    "#        out_result.append(int(i[-1]))\n",
    "#    return out_result"
   ]
  },
  {
   "cell_type": "code",
   "execution_count": 139,
   "metadata": {
    "collapsed": false
   },
   "outputs": [],
   "source": [
    "def match_submission_format(in_result):\n",
    "    out_result = []\n",
    "    j = 1\n",
    "    for i in in_result:\n",
    "        a = [0] * 10\n",
    "        a[0] = j\n",
    "        a[int(i[-1])] = 1\n",
    "        out_result.append(a)\n",
    "        j = j + 1\n",
    "    return out_result"
   ]
  },
  {
   "cell_type": "code",
   "execution_count": 130,
   "metadata": {
    "collapsed": true
   },
   "outputs": [],
   "source": [
    "def write_submission_result(in_result):\n",
    "    with open('submission.csv', 'wb') as of:\n",
    "        csv_file = csv.writer(of, delimiter = ',')\n",
    "        csv_file.writerow(['id','Class_1','Class_2','Class_3','Class_4','Class_5','Class_6','Class_7','Class_8','Class_9'])\n",
    "        for i in in_result:\n",
    "            csv_file.writerow(i)"
   ]
  },
  {
   "cell_type": "code",
   "execution_count": 146,
   "metadata": {
    "collapsed": false
   },
   "outputs": [],
   "source": [
    "# random forest\n",
    "rfc = sklearn.ensemble.RandomForestClassifier(n_estimators=10)\n",
    "rfc.fit(X_train, Y_train)\n",
    "y_result = rfc.predict(X_test)\n",
    "#Y_test = fix_result(Y_test)\n",
    "#sklearn.metrics.accuracy_score(Y_test, y_result, normalize=True)"
   ]
  },
  {
   "cell_type": "code",
   "execution_count": 147,
   "metadata": {
    "collapsed": false
   },
   "outputs": [],
   "source": [
    "submission = match_submission_format(y_result)"
   ]
  },
  {
   "cell_type": "code",
   "execution_count": 150,
   "metadata": {
    "collapsed": false
   },
   "outputs": [
    {
     "data": {
      "text/plain": [
       "[[1, 0, 0, 0, 1, 0, 0, 0, 0, 0],\n",
       " [2, 0, 0, 0, 0, 0, 1, 0, 0, 0],\n",
       " [3, 0, 0, 0, 0, 0, 1, 0, 0, 0],\n",
       " [4, 0, 1, 0, 0, 0, 0, 0, 0, 0],\n",
       " [5, 0, 0, 0, 0, 0, 0, 0, 0, 1],\n",
       " [6, 0, 0, 1, 0, 0, 0, 0, 0, 0],\n",
       " [7, 0, 0, 0, 0, 0, 0, 0, 1, 0],\n",
       " [8, 0, 1, 0, 0, 0, 0, 0, 0, 0],\n",
       " [9, 0, 0, 1, 0, 0, 0, 0, 0, 0],\n",
       " [10, 0, 0, 0, 0, 0, 0, 0, 1, 0]]"
      ]
     },
     "execution_count": 150,
     "metadata": {},
     "output_type": "execute_result"
    }
   ],
   "source": [
    "submission[0:10]"
   ]
  },
  {
   "cell_type": "code",
   "execution_count": 72,
   "metadata": {
    "collapsed": false
   },
   "outputs": [],
   "source": [
    "#convert_result(Y_train)\n",
    "#X_train"
   ]
  },
  {
   "cell_type": "code",
   "execution_count": 157,
   "metadata": {
    "collapsed": false
   },
   "outputs": [
    {
     "data": {
      "text/plain": [
       "array([ 0.55555556,  0.55555556,  0.55555556,  0.55555556,  0.55555556,\n",
       "        0.55555556,  0.55555556,  0.55555556,  0.55555556,  0.55555556])"
      ]
     },
     "execution_count": 157,
     "metadata": {},
     "output_type": "execute_result"
    }
   ],
   "source": [
    "#decision tree\n",
    "#one_hot_encoding = pd.get_dummies(Y_train)\n",
    "#clf = sklearn.tree.DecisionTreeClassifier(random_state=0)\n",
    "#sklearn.cross_validation.cross_val_score(clf, X_train, one_hot_encoding, cv=10)"
   ]
  },
  {
   "cell_type": "code",
   "execution_count": 151,
   "metadata": {
    "collapsed": false
   },
   "outputs": [],
   "source": [
    "write_submission_result(submission)"
   ]
  }
 ],
 "metadata": {
  "kernelspec": {
   "display_name": "Python 2",
   "language": "python",
   "name": "python2"
  },
  "language_info": {
   "codemirror_mode": {
    "name": "ipython",
    "version": 2
   },
   "file_extension": ".py",
   "mimetype": "text/x-python",
   "name": "python",
   "nbconvert_exporter": "python",
   "pygments_lexer": "ipython2",
   "version": "2.7.9"
  }
 },
 "nbformat": 4,
 "nbformat_minor": 0
}
