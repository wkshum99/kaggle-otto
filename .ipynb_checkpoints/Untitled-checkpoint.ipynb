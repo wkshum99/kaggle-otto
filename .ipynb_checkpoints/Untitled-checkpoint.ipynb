{
 "cells": [
  {
   "cell_type": "code",
   "execution_count": 64,
   "metadata": {
    "collapsed": true
   },
   "outputs": [],
   "source": [
    "import numpy as np\n",
    "import pandas as pd\n",
    "import scipy.linalg\n",
    "import matplotlib.pyplot as plt"
   ]
  },
  {
   "cell_type": "code",
   "execution_count": 81,
   "metadata": {
    "collapsed": false
   },
   "outputs": [],
   "source": [
    "X = np.random.random((25,10))"
   ]
  },
  {
   "cell_type": "code",
   "execution_count": 82,
   "metadata": {
    "collapsed": false
   },
   "outputs": [
    {
     "data": {
      "text/plain": [
       "(25L, 10L)"
      ]
     },
     "execution_count": 82,
     "metadata": {},
     "output_type": "execute_result"
    }
   ],
   "source": [
    "X.shape"
   ]
  },
  {
   "cell_type": "code",
   "execution_count": 83,
   "metadata": {
    "collapsed": false
   },
   "outputs": [],
   "source": [
    "U, s, Vh = scipy.linalg.svd(X)"
   ]
  },
  {
   "cell_type": "code",
   "execution_count": 84,
   "metadata": {
    "collapsed": false
   },
   "outputs": [
    {
     "name": "stdout",
     "output_type": "stream",
     "text": [
      "(25L, 25L)\n",
      "(10L,)\n",
      "(10L, 10L)\n"
     ]
    }
   ],
   "source": [
    "print U.shape\n",
    "print s.shape\n",
    "print Vh.shape"
   ]
  },
  {
   "cell_type": "code",
   "execution_count": 90,
   "metadata": {
    "collapsed": true
   },
   "outputs": [],
   "source": [
    "k = 10"
   ]
  },
  {
   "cell_type": "code",
   "execution_count": 91,
   "metadata": {
    "collapsed": false
   },
   "outputs": [
    {
     "data": {
      "text/plain": [
       "(5L, 5L)"
      ]
     },
     "execution_count": 91,
     "metadata": {},
     "output_type": "execute_result"
    }
   ],
   "source": [
    "[:, 0:k].shape"
   ]
  },
  {
   "cell_type": "code",
   "execution_count": null,
   "metadata": {
    "collapsed": true
   },
   "outputs": [],
   "source": [
    "#[U,S,V] = svd(A);\n",
    "#Ak = U(:,1:k)*S(1:k,1:k)*V(:,1:k)';"
   ]
  },
  {
   "cell_type": "code",
   "execution_count": null,
   "metadata": {
    "collapsed": false
   },
   "outputs": [],
   "source": [
    "s[0:k]"
   ]
  },
  {
   "cell_type": "code",
   "execution_count": 72,
   "metadata": {
    "collapsed": false
   },
   "outputs": [],
   "source": [
    "k = 5\n",
    "S = scipy.linalg.diagsvd(s[0:k], k, k)\n",
    "newX = np.dot(U[:, 0:k], np.dot(S[:, 0:k], Vh[:, 0:k].T))"
   ]
  },
  {
   "cell_type": "code",
   "execution_count": 80,
   "metadata": {
    "collapsed": false
   },
   "outputs": [
    {
     "data": {
      "text/plain": [
       "(10L, 5L)"
      ]
     },
     "execution_count": 80,
     "metadata": {},
     "output_type": "execute_result"
    }
   ],
   "source": [
    "U[:, 0:5].shape"
   ]
  },
  {
   "cell_type": "code",
   "execution_count": 79,
   "metadata": {
    "collapsed": false
   },
   "outputs": [
    {
     "data": {
      "text/plain": [
       "(10L, 10L)"
      ]
     },
     "execution_count": 79,
     "metadata": {},
     "output_type": "execute_result"
    }
   ],
   "source": [
    "U.shape"
   ]
  },
  {
   "cell_type": "code",
   "execution_count": 76,
   "metadata": {
    "collapsed": false
   },
   "outputs": [
    {
     "data": {
      "text/plain": [
       "array([[ 0.18512123,  0.88384532,  0.92042385,  0.44297443,  0.104911  ],\n",
       "       [ 0.72087972,  0.89135999,  0.51583376,  0.34950014,  0.14773765],\n",
       "       [ 0.25337036,  0.35340509,  0.06137139,  0.9088779 ,  0.85767884],\n",
       "       [ 0.33369103,  0.93846574,  0.79676436,  0.54603262,  0.22257884],\n",
       "       [ 0.53905155,  0.72713407,  0.34590706,  0.43734121,  0.72859125],\n",
       "       [ 0.13655626,  0.34643748,  0.92104328,  0.15176451,  0.62992005],\n",
       "       [ 0.01845993,  0.99483521,  0.70462488,  0.68141551,  0.10269965],\n",
       "       [ 0.11158028,  0.59023368,  0.14021695,  0.64953348,  0.95730422],\n",
       "       [ 0.03770152,  0.0748684 ,  0.93655747,  0.14509485,  0.88187174],\n",
       "       [ 0.68723312,  0.6518128 ,  0.06075868,  0.00592814,  0.22612559]])"
      ]
     },
     "execution_count": 76,
     "metadata": {},
     "output_type": "execute_result"
    }
   ],
   "source": [
    "X"
   ]
  },
  {
   "cell_type": "code",
   "execution_count": 75,
   "metadata": {
    "collapsed": false
   },
   "outputs": [
    {
     "data": {
      "text/plain": [
       "array([[ -2.17610066e-02,   7.74250111e-02,   6.53802670e-01,\n",
       "         -7.80555945e-01,   9.09214751e-01],\n",
       "       [  1.06846804e-01,   3.26325541e-04,   8.18829261e-02,\n",
       "         -1.07228261e+00,   7.45882215e-01],\n",
       "       [  1.03699961e+00,  -3.68069542e-01,   3.64567565e-01,\n",
       "         -5.59408394e-01,   3.12793112e-01],\n",
       "       [  1.57391352e-01,  -1.23643919e-03,   5.42537521e-01,\n",
       "         -8.98980768e-01,   9.20492853e-01],\n",
       "       [  4.65573510e-01,  -4.26448017e-01,   2.77067325e-01,\n",
       "         -9.83126016e-01,   4.68129368e-01],\n",
       "       [  1.82130950e-02,  -1.97068797e-01,   8.65742217e-01,\n",
       "         -7.64971669e-01,   1.81548735e-01],\n",
       "       [  2.12378961e-01,   2.32125829e-03,   5.98064126e-01,\n",
       "         -5.78049708e-01,   1.10656045e+00],\n",
       "       [  7.75549699e-01,  -6.36286138e-01,   4.56436417e-01,\n",
       "         -5.75596279e-01,   4.15727302e-01],\n",
       "       [  1.38264149e-01,  -2.89449610e-01,   1.04134561e+00,\n",
       "         -6.94382947e-01,  -1.15976163e-01],\n",
       "       [  3.54487435e-02,  -2.43817736e-01,  -2.65900125e-01,\n",
       "         -8.29017733e-01,   3.65146330e-01]])"
      ]
     },
     "execution_count": 75,
     "metadata": {},
     "output_type": "execute_result"
    }
   ],
   "source": [
    "newX"
   ]
  },
  {
   "cell_type": "code",
   "execution_count": 74,
   "metadata": {
    "collapsed": false
   },
   "outputs": [
    {
     "data": {
      "text/plain": [
       "False"
      ]
     },
     "execution_count": 74,
     "metadata": {},
     "output_type": "execute_result"
    }
   ],
   "source": [
    "np.allclose(newX, X)"
   ]
  },
  {
   "cell_type": "code",
   "execution_count": null,
   "metadata": {
    "collapsed": true
   },
   "outputs": [],
   "source": [
    "#Ak = U(:,1:k)*S(1:k,1:k)*V(:,1:k)';\n",
    "#U 100 x 100\n",
    "#S 100 x 20\n",
    "#V 20 x 20"
   ]
  }
 ],
 "metadata": {
  "kernelspec": {
   "display_name": "Python 2",
   "language": "python",
   "name": "python2"
  },
  "language_info": {
   "codemirror_mode": {
    "name": "ipython",
    "version": 2
   },
   "file_extension": ".py",
   "mimetype": "text/x-python",
   "name": "python",
   "nbconvert_exporter": "python",
   "pygments_lexer": "ipython2",
   "version": "2.7.8"
  }
 },
 "nbformat": 4,
 "nbformat_minor": 0
}
