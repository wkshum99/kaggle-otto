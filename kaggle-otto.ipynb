{
 "cells": [
  {
   "cell_type": "code",
   "execution_count": 12,
   "metadata": {
    "collapsed": false
   },
   "outputs": [],
   "source": [
    "#from bs4 import BeautifulSoup \n",
    "#import urllib\n",
    "#import re\n",
    "import string\n",
    "import sys\n",
    "import csv\n",
    "import zipfile\n",
    "import operator\n",
    "\n",
    "import numpy as np\n",
    "import pandas as pd\n",
    "import matplotlib.pyplot as plt\n",
    "\n",
    "import sklearn\n",
    "import sklearn.datasets\n",
    "import sklearn.cross_validation\n",
    "import sklearn.decomposition\n",
    "import sklearn.grid_search\n",
    "import sklearn.neighbors\n",
    "import sklearn.metrics\n",
    "import sklearn.ensemble\n",
    "import sklearn.tree"
   ]
  },
  {
   "cell_type": "code",
   "execution_count": 13,
   "metadata": {
    "collapsed": true
   },
   "outputs": [],
   "source": [
    "def get_zip_URL(url):\n",
    "    r = requests.get(zipFileName).content\n",
    "    s = StringIO.StringIO(r)\n",
    "    zf = zipfile.ZipFile(s, 'r') # Read in a list of zipped files\n",
    "    return zf"
   ]
  },
  {
   "cell_type": "code",
   "execution_count": 14,
   "metadata": {
    "collapsed": true
   },
   "outputs": [],
   "source": [
    "def get_zip_FS(filename):\n",
    "    r = open(filename, 'rb')\n",
    "    zf = zipfile.ZipFile(r, 'r') # Read in a list of zipped files\n",
    "    return zf"
   ]
  },
  {
   "cell_type": "code",
   "execution_count": 15,
   "metadata": {
    "collapsed": false
   },
   "outputs": [],
   "source": [
    "infile = get_zip_FS('train.csv.zip')\n",
    "df = pd.read_csv(infile.open(infile.namelist()[0]), index_col=0)\n",
    "X = df.ix[:, range(0,len(df.columns)-1)]\n",
    "Y = df.target"
   ]
  },
  {
   "cell_type": "code",
   "execution_count": 16,
   "metadata": {
    "collapsed": false
   },
   "outputs": [],
   "source": [
    "#infile = get_zip_FS('test.csv.zip')\n",
    "#df = pd.read_csv(infile.open(infile.namelist()[0]), index_col=0)\n",
    "#X_test = df.ix[:, range(0,len(df.columns))]"
   ]
  },
  {
   "cell_type": "code",
   "execution_count": 17,
   "metadata": {
    "collapsed": false
   },
   "outputs": [],
   "source": [
    "#X_train, X_test, Y_train, Y_test = sklearn.cross_validation.train_test_split(\n",
    "#    X, Y, test_size=0.33, random_state=42)\n",
    "\n",
    "#print X_train.shape\n",
    "#print X_test.shape\n",
    "#print Y_train.shape\n",
    "#print Y_test.shape"
   ]
  },
  {
   "cell_type": "code",
   "execution_count": 18,
   "metadata": {
    "collapsed": false
   },
   "outputs": [],
   "source": [
    "#def fix_result(in_result):\n",
    "#    out_result = []\n",
    "#    for i in in_result:\n",
    "#        out_result.append(i)\n",
    "#    return out_result"
   ]
  },
  {
   "cell_type": "code",
   "execution_count": 19,
   "metadata": {
    "collapsed": true
   },
   "outputs": [],
   "source": [
    "#def convert_result(in_result):\n",
    "#    out_result = []\n",
    "#    for i in in_result:\n",
    "#        out_result.append(int(i[-1]))\n",
    "#    return out_result"
   ]
  },
  {
   "cell_type": "code",
   "execution_count": 20,
   "metadata": {
    "collapsed": false
   },
   "outputs": [],
   "source": [
    "def match_submission_format(in_result):\n",
    "    out_result = []\n",
    "    j = 1\n",
    "    for i in in_result:\n",
    "        a = [0] * 10\n",
    "        a[0] = j\n",
    "        a[int(i[-1])] = 1\n",
    "        out_result.append(a)\n",
    "        j = j + 1\n",
    "    return out_result"
   ]
  },
  {
   "cell_type": "code",
   "execution_count": 21,
   "metadata": {
    "collapsed": true
   },
   "outputs": [],
   "source": [
    "def write_submission_result(in_result):\n",
    "    with open('submission.csv', 'wb') as of:\n",
    "        csv_file = csv.writer(of, delimiter = ',')\n",
    "        csv_file.writerow(['id','Class_1','Class_2','Class_3','Class_4','Class_5','Class_6','Class_7','Class_8','Class_9'])\n",
    "        for i in in_result:\n",
    "            csv_file.writerow(i)"
   ]
  },
  {
   "cell_type": "code",
   "execution_count": 22,
   "metadata": {
    "collapsed": false
   },
   "outputs": [],
   "source": [
    "# random forest\n",
    "\n",
    "#rfc.fit(X_train, Y_train)\n",
    "#y_result = rfc.predict(X_test)"
   ]
  },
  {
   "cell_type": "code",
   "execution_count": 23,
   "metadata": {
    "collapsed": false
   },
   "outputs": [],
   "source": [
    "#truth = Y_test.astype('S')\n",
    "#clf_result = y_result.astype('S')"
   ]
  },
  {
   "cell_type": "code",
   "execution_count": 24,
   "metadata": {
    "collapsed": false
   },
   "outputs": [],
   "source": [
    "#sklearn.metrics.accuracy_score(truth, clf_result)"
   ]
  },
  {
   "cell_type": "code",
   "execution_count": 25,
   "metadata": {
    "collapsed": false
   },
   "outputs": [],
   "source": [
    "# Random Forest\n",
    "#rfc = sklearn.ensemble.RandomForestClassifier(n_estimators=100)\n",
    "#sklearn.cross_validation.cross_val_score(rfc, X, Y, cv=10)"
   ]
  },
  {
   "cell_type": "code",
   "execution_count": 26,
   "metadata": {
    "collapsed": false
   },
   "outputs": [],
   "source": [
    "#submission = match_submission_format(y_result)"
   ]
  },
  {
   "cell_type": "code",
   "execution_count": 27,
   "metadata": {
    "collapsed": false
   },
   "outputs": [],
   "source": [
    "#decision tree\n",
    "#one_hot_encoding = pd.get_dummies(Y_train)\n",
    "#clf = sklearn.tree.DecisionTreeClassifier(random_state=0)\n",
    "#sklearn.cross_validation.cross_val_score(clf, X_train, one_hot_encoding, cv=10)"
   ]
  },
  {
   "cell_type": "code",
   "execution_count": 28,
   "metadata": {
    "collapsed": false
   },
   "outputs": [],
   "source": [
    "#write_submission_result(submission)"
   ]
  },
  {
   "cell_type": "code",
   "execution_count": 29,
   "metadata": {
    "collapsed": false
   },
   "outputs": [],
   "source": [
    "# perform svd on X first\n",
    "#svd = sklearn.decomposition.TruncatedSVD(n_components=10)\n",
    "#X_10d = svd.fit_transform(X)"
   ]
  },
  {
   "cell_type": "code",
   "execution_count": 30,
   "metadata": {
    "collapsed": false
   },
   "outputs": [],
   "source": [
    "# Random Forest\n",
    "#rfc = sklearn.ensemble.RandomForestClassifier(n_estimators=100)\n",
    "#np.mean(sklearn.cross_validation.cross_val_score(rfc, X_10d, Y, cv=10))"
   ]
  },
  {
   "cell_type": "code",
   "execution_count": 31,
   "metadata": {
    "collapsed": true
   },
   "outputs": [],
   "source": [
    "def clf_svd(X, Y, clf, dimension_reduction, no_of_feature=None):\n",
    "    # perform dimension reduction on X, and run\n",
    "    # classifer, return cross validation score matrix\n",
    "    \n",
    "    if (no_of_feature == None):\n",
    "        no_of_feature = len(X.columns) \n",
    "        \n",
    "    options = {'pca': sklearn.decomposition.PCA,\n",
    "               't_svd': sklearn.decomposition.TruncatedSVD}\n",
    "    \n",
    "    # number of features must be greater than or equal to 2\n",
    "    if len(X.columns) < 2:\n",
    "        return False\n",
    "    else:    \n",
    "        result = {}\n",
    "        for i in range(2, no_of_feature+1):\n",
    "            # if number of features is same as i, no need to perform dimension reduction\n",
    "            if (i == len(X.columns)):\n",
    "                result[i] = sklearn.cross_validation.cross_val_score(clf, X, Y, cv=10)\n",
    "            else:                \n",
    "                svd = options[dimension_reduction](n_components=i)\n",
    "                X_ds = svd.fit_transform(X)\n",
    "                result[i] = sklearn.cross_validation.cross_val_score(clf, X_ds, Y, cv=10)\n",
    "            \n",
    "    return result"
   ]
  },
  {
   "cell_type": "code",
   "execution_count": 32,
   "metadata": {
    "collapsed": false
   },
   "outputs": [],
   "source": [
    "clf = sklearn.ensemble.RandomForestClassifier(n_estimators=10)"
   ]
  },
  {
   "cell_type": "code",
   "execution_count": 33,
   "metadata": {
    "collapsed": false
   },
   "outputs": [],
   "source": [
    "pca_result = clf_svd(X, Y, clf, 'pca')"
   ]
  },
  {
   "cell_type": "code",
   "execution_count": 34,
   "metadata": {
    "collapsed": false
   },
   "outputs": [],
   "source": [
    "svd_result = clf_svd(X, Y, sklearn.ensemble.RandomForestClassifier(n_estimators=10), 't_svd')"
   ]
  },
  {
   "cell_type": "code",
   "execution_count": 35,
   "metadata": {
    "collapsed": false
   },
   "outputs": [],
   "source": [
    "pca_totalresult = {}\n",
    "for i in pca_result.keys():\n",
    "    pca_totalresult[i] = np.mean(pca_result[i])"
   ]
  },
  {
   "cell_type": "code",
   "execution_count": 36,
   "metadata": {
    "collapsed": true
   },
   "outputs": [],
   "source": [
    "svd_totalresult = {}\n",
    "for i in svd_result.keys():\n",
    "    svd_totalresult[i] = np.mean(svd_result[i])"
   ]
  },
  {
   "cell_type": "code",
   "execution_count": 53,
   "metadata": {
    "collapsed": false
   },
   "outputs": [],
   "source": [
    "#pca_totalresult"
   ]
  },
  {
   "cell_type": "code",
   "execution_count": 50,
   "metadata": {
    "collapsed": true
   },
   "outputs": [],
   "source": [
    "#out = open('svd_totalresult.csv', 'wb')\n",
    "#csvwriter = csv.writer(out)"
   ]
  },
  {
   "cell_type": "code",
   "execution_count": 51,
   "metadata": {
    "collapsed": false
   },
   "outputs": [],
   "source": [
    "#for i in svd_totalresult:\n",
    "#    csvwriter.writerow([i, svd_totalresult[i]])"
   ]
  },
  {
   "cell_type": "code",
   "execution_count": 52,
   "metadata": {
    "collapsed": false
   },
   "outputs": [],
   "source": [
    "#out.close()"
   ]
  },
  {
   "cell_type": "code",
   "execution_count": 37,
   "metadata": {
    "collapsed": false
   },
   "outputs": [],
   "source": [
    "#max(totalresult.iteritems(), key=operator.itemgetter(1))"
   ]
  },
  {
   "cell_type": "code",
   "execution_count": 38,
   "metadata": {
    "collapsed": false
   },
   "outputs": [],
   "source": [
    "#totalresult"
   ]
  },
  {
   "cell_type": "code",
   "execution_count": 39,
   "metadata": {
    "collapsed": true
   },
   "outputs": [],
   "source": [
    "#a = sklearn.cross_validation.cross_val_score(sklearn.ensemble.RandomForestClassifier(n_estimators=100), X, Y, cv=10)"
   ]
  },
  {
   "cell_type": "code",
   "execution_count": 40,
   "metadata": {
    "collapsed": false
   },
   "outputs": [],
   "source": [
    "#a"
   ]
  }
 ],
 "metadata": {
  "kernelspec": {
   "display_name": "Python 2",
   "language": "python",
   "name": "python2"
  },
  "language_info": {
   "codemirror_mode": {
    "name": "ipython",
    "version": 2
   },
   "file_extension": ".py",
   "mimetype": "text/x-python",
   "name": "python",
   "nbconvert_exporter": "python",
   "pygments_lexer": "ipython2",
   "version": "2.7.9"
  }
 },
 "nbformat": 4,
 "nbformat_minor": 0
}
